{
 "cells": [
  {
   "cell_type": "markdown",
   "metadata": {},
   "source": [
    "# Missouri Presidential Primary Results\n",
    "\n",
    "In this notebook, I will dig into the county-level election results for Missouri's Presidential Primary contests, which were held on March 10, 2020.\n",
    "\n",
    "These results are published starting at 7 pm central time on the night of the election via an XML feed.\n",
    "\n",
    "The plan:\n",
    "\n",
    "1. Fetch the results\n",
    "2. Parse them\n",
    "3. Load them into a pandas DataFrame\n",
    "4. Generate some state-, party- and candidate-level summaries\n",
    "5. Get the TopoJSON for the Missouri county borders\n",
    "6. Merge together the results and geo data\n",
    "7. Generate maps\n",
    "\n",
    "Here are all the modules we need to do this work:"
   ]
  },
  {
   "cell_type": "code",
   "execution_count": 1,
   "metadata": {},
   "outputs": [],
   "source": [
    "import json\n",
    "import os\n",
    "import xml.etree.ElementTree as et\n",
    "import pandas as pd\n",
    "import geopandas as gpd\n",
    "import altair as alt\n",
    "import requests"
   ]
  },
  {
   "cell_type": "markdown",
   "metadata": {},
   "source": [
    "## Accessing the data\n",
    "\n",
    "The Missouri Secretary of State publishes county-level results via an XML feed available at this url:"
   ]
  },
  {
   "cell_type": "code",
   "execution_count": 2,
   "metadata": {},
   "outputs": [],
   "source": [
    "results_url = \"https://enrarchives.sos.mo.gov/apfeed/apfeed.asmx/GetElectionResults\""
   ]
  },
  {
   "cell_type": "markdown",
   "metadata": {},
   "source": [
    "In order to access the feed, you need a key provided by SoS Elections Divisions."
   ]
  },
  {
   "cell_type": "code",
   "execution_count": 3,
   "metadata": {},
   "outputs": [],
   "source": []
  },
  {
   "cell_type": "markdown",
   "metadata": {},
   "source": [
    "We can fetch this data using the popular [Requests](https://requests.readthedocs.io/en/master/) library. To do that we need pass in the key as a parameter."
   ]
  },
  {
   "cell_type": "code",
   "execution_count": null,
   "metadata": {},
   "outputs": [],
   "source": []
  },
  {
   "cell_type": "markdown",
   "metadata": {},
   "source": [
    "On trick that we learned is that, for whatever reason, this endpoint will respond with a 520 status code unless we change the default value in the `'User-Agent'` header from `'python-requests/2.23.0'` to a the sort of value a standard web browser would use."
   ]
  },
  {
   "cell_type": "markdown",
   "metadata": {},
   "source": [
    "## Preparing the data\n",
    "\n",
    "We can't throw XML data immediately into a pandas DataFrame. Instead, we need to pre-process it using Python's built-in [XML](https://docs.python.org/3/library/xml.html) module."
   ]
  },
  {
   "cell_type": "code",
   "execution_count": null,
   "metadata": {},
   "outputs": [],
   "source": []
  },
  {
   "cell_type": "markdown",
   "metadata": {},
   "source": [
    "## How many people voted in the Missouri's recent presidential primary?"
   ]
  },
  {
   "cell_type": "markdown",
   "metadata": {},
   "source": [
    "## How many people voted in each party?"
   ]
  },
  {
   "cell_type": "markdown",
   "metadata": {},
   "source": [
    "## What were the candidate rankings in each party's primary?"
   ]
  },
  {
   "cell_type": "code",
   "execution_count": null,
   "metadata": {},
   "outputs": [],
   "source": []
  }
 ],
 "metadata": {
  "kernelspec": {
   "display_name": "Python 3",
   "language": "python",
   "name": "python3"
  },
  "language_info": {
   "codemirror_mode": {
    "name": "ipython",
    "version": 3
   },
   "file_extension": ".py",
   "mimetype": "text/x-python",
   "name": "python",
   "nbconvert_exporter": "python",
   "pygments_lexer": "ipython3",
   "version": "3.8.1"
  }
 },
 "nbformat": 4,
 "nbformat_minor": 4
}
