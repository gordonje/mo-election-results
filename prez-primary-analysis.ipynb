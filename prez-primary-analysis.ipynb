{
 "cells": [
  {
   "cell_type": "markdown",
   "metadata": {},
   "source": [
    "# Missouri Presidential Primary Results\n",
    "\n",
    "In this notebook, I will dig into the county-level election results for Missouri's Presidential Primary contests, which were held on March 10, 2020.\n",
    "\n",
    "The plan:\n",
    "\n",
    "1. Access the results data\n",
    "2. Prepare it for analysis\n",
    "3. Compute state, party and candidate level stats\n",
    "4. Access county-level boundary data\n",
    "5. Merge county geographic data with the results\n",
    "6. Create a choropleth map for each party showing the leader's vote share per county"
   ]
  },
  {
   "cell_type": "code",
   "execution_count": 3,
   "metadata": {},
   "outputs": [],
   "source": [
    "import os\n",
    "import xml.etree.ElementTree as et\n",
    "import pandas as pd\n",
    "import geopandas as gpd\n",
    "import altair as alt\n",
    "import requests"
   ]
  },
  {
   "cell_type": "markdown",
   "metadata": {},
   "source": [
    "## Accessing the data\n",
    "\n",
    "For every state-wide election, the Missouri Secretary of State publishes county-level results. Initial results are posted after polls close at 7 pm on election night with updated results posted every few minutes until all precincts have reported.\n",
    "\n",
    "I can see these results via an XML feed available at this url:"
   ]
  },
  {
   "cell_type": "code",
   "execution_count": 4,
   "metadata": {},
   "outputs": [],
   "source": [
    "results_url = \"https://enrarchives.sos.mo.gov/apfeed/apfeed.asmx/GetElectionResults\""
   ]
  },
  {
   "cell_type": "markdown",
   "metadata": {},
   "source": [
    "In order to access the feed, you need a key provided by SoS Elections Divisions. To keep the key hidden from public view, I have it stored in an environment variable, which is set via [direnv](https://direnv.net/)."
   ]
  },
  {
   "cell_type": "code",
   "execution_count": 5,
   "metadata": {},
   "outputs": [],
   "source": [
    "payload = {'AccessKey': os.environ.get('SOS_ACCESS_KEY')}"
   ]
  },
  {
   "cell_type": "markdown",
   "metadata": {},
   "source": [
    "I can fetch this data using the popular [Requests](https://requests.readthedocs.io/en/master/) library.\n",
    "\n",
    "One trick I've learned is that, for whatever reason, this endpoint will respond with a 520 status code unless I change the default value in the `'User-Agent'` header from `'python-requests/2.23.0'` to match what a standard web browser would send."
   ]
  },
  {
   "cell_type": "code",
   "execution_count": 6,
   "metadata": {},
   "outputs": [],
   "source": [
    "headers = {\n",
    "    'User-Agent': 'Mozilla/5.0 (Macintosh; Intel Mac OS X 10.15; rv:73.0) Gecko/20100101 Firefox/73.0'\n",
    "}"
   ]
  },
  {
   "cell_type": "markdown",
   "metadata": {},
   "source": [
    "Now I can make a [`GET`](https://developer.mozilla.org/en-US/docs/Web/HTTP/Methods/GET) request for this resource."
   ]
  },
  {
   "cell_type": "code",
   "execution_count": 7,
   "metadata": {},
   "outputs": [],
   "source": [
    "r = requests.get(\n",
    "    results_url, params=payload, headers=headers\n",
    ")"
   ]
  },
  {
   "cell_type": "markdown",
   "metadata": {},
   "source": [
    "This returns a [`Response`](https://requests.readthedocs.io/en/master/api/#requests.Response) object. Here's a quick check to make sure the response was ok."
   ]
  },
  {
   "cell_type": "code",
   "execution_count": 8,
   "metadata": {},
   "outputs": [
    {
     "data": {
      "text/plain": [
       "True"
      ]
     },
     "execution_count": 8,
     "metadata": {},
     "output_type": "execute_result"
    }
   ],
   "source": [
    "r.ok"
   ]
  },
  {
   "cell_type": "markdown",
   "metadata": {},
   "source": [
    "## Preparing the data\n",
    "\n",
    "AFAIK: I can't throw XML immediately into a [`pandas.DataFrame`](https://pandas.pydata.org/pandas-docs/stable/reference/api/pandas.DataFrame.html). I need to pre-process the data. For this task, I will use Python's built-in [XML](https://docs.python.org/3.8/library/xml.etree.elementtree.html) module.\n",
    "\n",
    "At the top of this notebook, I imported the [`ElementTree`](https://docs.python.org/3.8/library/xml.etree.elementtree.html#module-xml.etree.ElementTree) under the alias `et`. In that module is a function named [`fromstring`](https://docs.python.org/3.8/library/xml.etree.elementtree.html#xml.etree.ElementTree.fromstring). I call that function here, passing the `.content` attribute of the response object, `r`."
   ]
  },
  {
   "cell_type": "code",
   "execution_count": 9,
   "metadata": {},
   "outputs": [],
   "source": [
    "root = et.fromstring(r.content)"
   ]
  },
  {
   "cell_type": "markdown",
   "metadata": {},
   "source": [
    "The `fromstring` function returns the top-level or \"root\" [`Element`](https://docs.python.org/3.8/library/xml.etree.elementtree.html#xml.etree.ElementTree.Element) of the XML, which in this case is `<ElectionResults LastUpdated=\"3/10/2020 10:52:10 PM\"></ElectionResults>`. This is the outermost wrapper of the XML tree.\n",
    "\n",
    "The name of the tag indicates the kind of data the element contains. It's sort of like a column header in a tabular data format. We can access this label like this:"
   ]
  },
  {
   "cell_type": "code",
   "execution_count": 13,
   "metadata": {},
   "outputs": [
    {
     "name": "stdout",
     "output_type": "stream",
     "text": [
      "ElectionResults\n"
     ]
    }
   ],
   "source": [
    "print(root.tag)"
   ]
  },
  {
   "cell_type": "markdown",
   "metadata": {},
   "source": [
    "We can also access the elements \"attributes\", which is a dictionary of the all the stuff that's inside the first part of the tag. In this case, there's just one attribute: `'LastUpdated'`, which tells us the date and time the results were last updated."
   ]
  },
  {
   "cell_type": "code",
   "execution_count": 14,
   "metadata": {},
   "outputs": [
    {
     "name": "stdout",
     "output_type": "stream",
     "text": [
      "3/10/2020 10:52:10 PM\n"
     ]
    }
   ],
   "source": [
    "print(root.attrib['LastUpdated'])"
   ]
  },
  {
   "cell_type": "markdown",
   "metadata": {},
   "source": [
    "The `Element` class has two other methods I'll make use of:\n",
    "\n",
    "- [`.find`](https://docs.python.org/3.8/library/xml.etree.elementtree.html#xml.etree.ElementTree.Element.find), which returns the *first* subelement that matches the string you pass in.\n",
    "- [`.findall`](https://docs.python.org/3.8/library/xml.etree.elementtree.html#xml.etree.ElementTree.Element.findall), which returns *all* of the matching subelements in a list.\n",
    "\n",
    "In order load the data into a `pandas.DataFrame`, I need to re-format the data into something more like a tabular format. Specifically, I want a list of lists, which is what you get when you read a csv file into Python. Here I will declare a variable that starts out as just an empty list, which I will then fill up with rows of data."
   ]
  },
  {
   "cell_type": "code",
   "execution_count": 15,
   "metadata": {},
   "outputs": [],
   "source": [
    "rows = []"
   ]
  },
  {
   "cell_type": "markdown",
   "metadata": {},
   "source": [
    "As I perform this data transformation, I will also \"flatten\" the hierarchical structure. For instance, in the original XML data, there is a single element that contains the name of a given county. In the tabular format, the county anme  will be repeated for each row. Same for the party name. In this flattened dataset, each row will represent the number of votes won by a given candidate in a given party primary in a given county.\n",
    "\n",
    "In order to do this, I need to loop over the elements at each level of the XML's hierarchy, starting with the counties. Here's how to get all the counties:"
   ]
  },
  {
   "cell_type": "code",
   "execution_count": 16,
   "metadata": {},
   "outputs": [],
   "source": [
    "counties = root.find('ElectionInfo').find('TypeRace').find('Race').findall('Counties')"
   ]
  },
  {
   "cell_type": "markdown",
   "metadata": {},
   "source": [
    "Since I'm iterating over all the XML elements anyway, I will also sort the candidates within each county's party primary and set which candidate currently has the most votes (aka, the \"leader\").\n",
    "\n",
    "This is...not the most elegant way to transform this data. But it works and is pretty straight-forward."
   ]
  },
  {
   "cell_type": "code",
   "execution_count": 18,
   "metadata": {},
   "outputs": [],
   "source": [
    "for county in counties:\n",
    "    for party in county.find('CountyResults').findall('Party'):\n",
    "        sorted_candidates = sorted(\n",
    "            [c for c in party.findall('Candidate')],\n",
    "            key=lambda c: int(c.find('YesVotes').text),\n",
    "            reverse=True\n",
    "        )\n",
    "        county_party_leader = sorted_candidates[0].find('LastName').text\n",
    "        county_party_total = sum([int(c.find('YesVotes').text) for c in sorted_candidates])\n",
    "        for candidate in sorted_candidates:\n",
    "            row = [\n",
    "                county.find('CountyName').text,\n",
    "                int(county.find('CountyResults').find('ReportingPrecincts').text),\n",
    "                int(county.find('CountyResults').find('TotalPrecincts').text),\n",
    "                party.find('PartyName').text,\n",
    "                candidate.find('CandidateID').text,\n",
    "                candidate.find('LastName').text,\n",
    "                int(candidate.find('YesVotes').text),\n",
    "                county_party_total,\n",
    "                candidate.find('LastName').text == county_party_leader,\n",
    "            ]\n",
    "            rows.append(row)"
   ]
  },
  {
   "cell_type": "markdown",
   "metadata": {},
   "source": [
    "Now I can load this data into a `pandas.DataFrame`. In so doing, I will speficy the column headers. For the sake of consistency, I will reuse the element tags from the XML:"
   ]
  },
  {
   "cell_type": "code",
   "execution_count": 20,
   "metadata": {},
   "outputs": [],
   "source": [
    "results = pd.DataFrame(\n",
    "    rows,\n",
    "    columns=[\n",
    "        'CountyName', 'ReportingPrecincts', 'TotalPrecincts', 'PartyName', 'CandidateID',\n",
    "        'LastName', 'YesVotes', 'Total', 'IsLeader'\n",
    "    ]\n",
    ")"
   ]
  },
  {
   "cell_type": "markdown",
   "metadata": {},
   "source": [
    "I'll take a look at the columns, their positions, non-null counts and data-types:"
   ]
  },
  {
   "cell_type": "code",
   "execution_count": 21,
   "metadata": {},
   "outputs": [
    {
     "name": "stdout",
     "output_type": "stream",
     "text": [
      "<class 'pandas.core.frame.DataFrame'>\n",
      "RangeIndex: 8816 entries, 0 to 8815\n",
      "Data columns (total 9 columns):\n",
      " #   Column              Non-Null Count  Dtype \n",
      "---  ------              --------------  ----- \n",
      " 0   CountyName          8816 non-null   object\n",
      " 1   ReportingPrecincts  8816 non-null   int64 \n",
      " 2   TotalPrecincts      8816 non-null   int64 \n",
      " 3   PartyName           8816 non-null   object\n",
      " 4   CandidateID         8816 non-null   object\n",
      " 5   LastName            8816 non-null   object\n",
      " 6   YesVotes            8816 non-null   int64 \n",
      " 7   Total               8816 non-null   int64 \n",
      " 8   IsLeader            8816 non-null   bool  \n",
      "dtypes: bool(1), int64(4), object(4)\n",
      "memory usage: 559.7+ KB\n"
     ]
    }
   ],
   "source": [
    "results.info()"
   ]
  },
  {
   "cell_type": "markdown",
   "metadata": {},
   "source": [
    "And take a peek of the actual data:"
   ]
  },
  {
   "cell_type": "code",
   "execution_count": 22,
   "metadata": {},
   "outputs": [
    {
     "data": {
      "text/html": [
       "<div>\n",
       "<style scoped>\n",
       "    .dataframe tbody tr th:only-of-type {\n",
       "        vertical-align: middle;\n",
       "    }\n",
       "\n",
       "    .dataframe tbody tr th {\n",
       "        vertical-align: top;\n",
       "    }\n",
       "\n",
       "    .dataframe thead th {\n",
       "        text-align: right;\n",
       "    }\n",
       "</style>\n",
       "<table border=\"1\" class=\"dataframe\">\n",
       "  <thead>\n",
       "    <tr style=\"text-align: right;\">\n",
       "      <th></th>\n",
       "      <th>CountyName</th>\n",
       "      <th>ReportingPrecincts</th>\n",
       "      <th>TotalPrecincts</th>\n",
       "      <th>PartyName</th>\n",
       "      <th>CandidateID</th>\n",
       "      <th>LastName</th>\n",
       "      <th>YesVotes</th>\n",
       "      <th>Total</th>\n",
       "      <th>IsLeader</th>\n",
       "    </tr>\n",
       "  </thead>\n",
       "  <tbody>\n",
       "    <tr>\n",
       "      <th>0</th>\n",
       "      <td>Adair</td>\n",
       "      <td>12</td>\n",
       "      <td>12</td>\n",
       "      <td>Republican</td>\n",
       "      <td>750117286</td>\n",
       "      <td>Donald J Trump</td>\n",
       "      <td>1129</td>\n",
       "      <td>1183</td>\n",
       "      <td>True</td>\n",
       "    </tr>\n",
       "    <tr>\n",
       "      <th>1</th>\n",
       "      <td>Adair</td>\n",
       "      <td>12</td>\n",
       "      <td>12</td>\n",
       "      <td>Republican</td>\n",
       "      <td>750117328</td>\n",
       "      <td>Bill Weld</td>\n",
       "      <td>19</td>\n",
       "      <td>1183</td>\n",
       "      <td>False</td>\n",
       "    </tr>\n",
       "    <tr>\n",
       "      <th>2</th>\n",
       "      <td>Adair</td>\n",
       "      <td>12</td>\n",
       "      <td>12</td>\n",
       "      <td>Republican</td>\n",
       "      <td>750117330</td>\n",
       "      <td>Joe Walsh</td>\n",
       "      <td>14</td>\n",
       "      <td>1183</td>\n",
       "      <td>False</td>\n",
       "    </tr>\n",
       "    <tr>\n",
       "      <th>3</th>\n",
       "      <td>Adair</td>\n",
       "      <td>12</td>\n",
       "      <td>12</td>\n",
       "      <td>Republican</td>\n",
       "      <td>750117353</td>\n",
       "      <td>Uncommitted</td>\n",
       "      <td>14</td>\n",
       "      <td>1183</td>\n",
       "      <td>False</td>\n",
       "    </tr>\n",
       "    <tr>\n",
       "      <th>4</th>\n",
       "      <td>Adair</td>\n",
       "      <td>12</td>\n",
       "      <td>12</td>\n",
       "      <td>Republican</td>\n",
       "      <td>750117300</td>\n",
       "      <td>Bob Ely</td>\n",
       "      <td>5</td>\n",
       "      <td>1183</td>\n",
       "      <td>False</td>\n",
       "    </tr>\n",
       "  </tbody>\n",
       "</table>\n",
       "</div>"
      ],
      "text/plain": [
       "  CountyName  ReportingPrecincts  TotalPrecincts   PartyName CandidateID  \\\n",
       "0      Adair                  12              12  Republican   750117286   \n",
       "1      Adair                  12              12  Republican   750117328   \n",
       "2      Adair                  12              12  Republican   750117330   \n",
       "3      Adair                  12              12  Republican   750117353   \n",
       "4      Adair                  12              12  Republican   750117300   \n",
       "\n",
       "         LastName  YesVotes  Total  IsLeader  \n",
       "0  Donald J Trump      1129   1183      True  \n",
       "1       Bill Weld        19   1183     False  \n",
       "2       Joe Walsh        14   1183     False  \n",
       "3     Uncommitted        14   1183     False  \n",
       "4         Bob Ely         5   1183     False  "
      ]
     },
     "execution_count": 22,
     "metadata": {},
     "output_type": "execute_result"
    }
   ],
   "source": [
    "results.head()"
   ]
  },
  {
   "cell_type": "markdown",
   "metadata": {},
   "source": [
    "## How many people voted in the Missouri's recent presidential primary?"
   ]
  },
  {
   "cell_type": "code",
   "execution_count": 71,
   "metadata": {},
   "outputs": [],
   "source": [
    "total_votes = results.YesVotes.sum()"
   ]
  },
  {
   "cell_type": "code",
   "execution_count": 72,
   "metadata": {},
   "outputs": [
    {
     "name": "stdout",
     "output_type": "stream",
     "text": [
      "There where 972,777 cast in the Missouri Presidential Primary\n"
     ]
    }
   ],
   "source": [
    "print(f'There where {total_votes:,} cast in the Missouri Presidential Primary')"
   ]
  },
  {
   "cell_type": "markdown",
   "metadata": {},
   "source": [
    "## How many people voted in each party?"
   ]
  },
  {
   "cell_type": "code",
   "execution_count": 73,
   "metadata": {},
   "outputs": [],
   "source": [
    "party_totals = results.groupby('PartyName').YesVotes.sum().reset_index().sort_values(\n",
    "    'YesVotes', ascending=False\n",
    ")"
   ]
  },
  {
   "cell_type": "code",
   "execution_count": 74,
   "metadata": {},
   "outputs": [
    {
     "data": {
      "text/html": [
       "<div>\n",
       "<style scoped>\n",
       "    .dataframe tbody tr th:only-of-type {\n",
       "        vertical-align: middle;\n",
       "    }\n",
       "\n",
       "    .dataframe tbody tr th {\n",
       "        vertical-align: top;\n",
       "    }\n",
       "\n",
       "    .dataframe thead th {\n",
       "        text-align: right;\n",
       "    }\n",
       "</style>\n",
       "<table border=\"1\" class=\"dataframe\">\n",
       "  <thead>\n",
       "    <tr style=\"text-align: right;\">\n",
       "      <th></th>\n",
       "      <th>PartyName</th>\n",
       "      <th>YesVotes</th>\n",
       "    </tr>\n",
       "  </thead>\n",
       "  <tbody>\n",
       "    <tr>\n",
       "      <th>1</th>\n",
       "      <td>Democratic</td>\n",
       "      <td>660083</td>\n",
       "    </tr>\n",
       "    <tr>\n",
       "      <th>4</th>\n",
       "      <td>Republican</td>\n",
       "      <td>309211</td>\n",
       "    </tr>\n",
       "    <tr>\n",
       "      <th>3</th>\n",
       "      <td>Libertarian</td>\n",
       "      <td>2256</td>\n",
       "    </tr>\n",
       "    <tr>\n",
       "      <th>0</th>\n",
       "      <td>Constitution</td>\n",
       "      <td>716</td>\n",
       "    </tr>\n",
       "    <tr>\n",
       "      <th>2</th>\n",
       "      <td>Green</td>\n",
       "      <td>511</td>\n",
       "    </tr>\n",
       "  </tbody>\n",
       "</table>\n",
       "</div>"
      ],
      "text/plain": [
       "      PartyName  YesVotes\n",
       "1    Democratic    660083\n",
       "4    Republican    309211\n",
       "3   Libertarian      2256\n",
       "0  Constitution       716\n",
       "2         Green       511"
      ]
     },
     "execution_count": 74,
     "metadata": {},
     "output_type": "execute_result"
    }
   ],
   "source": [
    "party_totals"
   ]
  },
  {
   "cell_type": "markdown",
   "metadata": {},
   "source": [
    "## What were the candidate rankings in each party's primary?"
   ]
  },
  {
   "cell_type": "code",
   "execution_count": 75,
   "metadata": {},
   "outputs": [],
   "source": [
    "candidate_totals = results.groupby(\n",
    "    ['PartyName', 'CandidateID', 'LastName']\n",
    ").YesVotes.sum().reset_index().sort_values(\n",
    "    ['PartyName', 'YesVotes', 'LastName'], ascending=[True, False, True]\n",
    ")"
   ]
  },
  {
   "cell_type": "code",
   "execution_count": 76,
   "metadata": {},
   "outputs": [
    {
     "data": {
      "text/html": [
       "<div>\n",
       "<style scoped>\n",
       "    .dataframe tbody tr th:only-of-type {\n",
       "        vertical-align: middle;\n",
       "    }\n",
       "\n",
       "    .dataframe tbody tr th {\n",
       "        vertical-align: top;\n",
       "    }\n",
       "\n",
       "    .dataframe thead th {\n",
       "        text-align: right;\n",
       "    }\n",
       "</style>\n",
       "<table border=\"1\" class=\"dataframe\">\n",
       "  <thead>\n",
       "    <tr style=\"text-align: right;\">\n",
       "      <th></th>\n",
       "      <th>PartyName</th>\n",
       "      <th>CandidateID</th>\n",
       "      <th>LastName</th>\n",
       "      <th>YesVotes</th>\n",
       "    </tr>\n",
       "  </thead>\n",
       "  <tbody>\n",
       "    <tr>\n",
       "      <th>1</th>\n",
       "      <td>Constitution</td>\n",
       "      <td>750117335</td>\n",
       "      <td>Don Blankenship</td>\n",
       "      <td>278</td>\n",
       "    </tr>\n",
       "    <tr>\n",
       "      <th>2</th>\n",
       "      <td>Constitution</td>\n",
       "      <td>750117357</td>\n",
       "      <td>Uncommitted</td>\n",
       "      <td>270</td>\n",
       "    </tr>\n",
       "    <tr>\n",
       "      <th>0</th>\n",
       "      <td>Constitution</td>\n",
       "      <td>750117333</td>\n",
       "      <td>Don J. Grundmann</td>\n",
       "      <td>168</td>\n",
       "    </tr>\n",
       "    <tr>\n",
       "      <th>8</th>\n",
       "      <td>Democratic</td>\n",
       "      <td>750117279</td>\n",
       "      <td>Joseph R. Biden</td>\n",
       "      <td>396826</td>\n",
       "    </tr>\n",
       "    <tr>\n",
       "      <th>11</th>\n",
       "      <td>Democratic</td>\n",
       "      <td>750117283</td>\n",
       "      <td>Bernie Sanders</td>\n",
       "      <td>228244</td>\n",
       "    </tr>\n",
       "    <tr>\n",
       "      <th>21</th>\n",
       "      <td>Democratic</td>\n",
       "      <td>750117324</td>\n",
       "      <td>Michael R. Bloomberg</td>\n",
       "      <td>9754</td>\n",
       "    </tr>\n",
       "    <tr>\n",
       "      <th>10</th>\n",
       "      <td>Democratic</td>\n",
       "      <td>750117282</td>\n",
       "      <td>Elizabeth Warren</td>\n",
       "      <td>8066</td>\n",
       "    </tr>\n",
       "    <tr>\n",
       "      <th>3</th>\n",
       "      <td>Democratic</td>\n",
       "      <td>750117274</td>\n",
       "      <td>Tulsi Gabbard</td>\n",
       "      <td>4838</td>\n",
       "    </tr>\n",
       "    <tr>\n",
       "      <th>4</th>\n",
       "      <td>Democratic</td>\n",
       "      <td>750117275</td>\n",
       "      <td>Pete Buttigieg</td>\n",
       "      <td>3272</td>\n",
       "    </tr>\n",
       "    <tr>\n",
       "      <th>5</th>\n",
       "      <td>Democratic</td>\n",
       "      <td>750117276</td>\n",
       "      <td>Amy Klobuchar</td>\n",
       "      <td>2652</td>\n",
       "    </tr>\n",
       "    <tr>\n",
       "      <th>25</th>\n",
       "      <td>Democratic</td>\n",
       "      <td>750117354</td>\n",
       "      <td>Uncommitted</td>\n",
       "      <td>2461</td>\n",
       "    </tr>\n",
       "    <tr>\n",
       "      <th>14</th>\n",
       "      <td>Democratic</td>\n",
       "      <td>750117288</td>\n",
       "      <td>Andrew Yang</td>\n",
       "      <td>944</td>\n",
       "    </tr>\n",
       "    <tr>\n",
       "      <th>12</th>\n",
       "      <td>Democratic</td>\n",
       "      <td>750117285</td>\n",
       "      <td>Cory Booker</td>\n",
       "      <td>647</td>\n",
       "    </tr>\n",
       "    <tr>\n",
       "      <th>9</th>\n",
       "      <td>Democratic</td>\n",
       "      <td>750117280</td>\n",
       "      <td>Tom Steyer</td>\n",
       "      <td>579</td>\n",
       "    </tr>\n",
       "    <tr>\n",
       "      <th>24</th>\n",
       "      <td>Democratic</td>\n",
       "      <td>750117332</td>\n",
       "      <td>William C. (Bill) Haas</td>\n",
       "      <td>391</td>\n",
       "    </tr>\n",
       "    <tr>\n",
       "      <th>20</th>\n",
       "      <td>Democratic</td>\n",
       "      <td>750117323</td>\n",
       "      <td>Michael Bennet</td>\n",
       "      <td>203</td>\n",
       "    </tr>\n",
       "    <tr>\n",
       "      <th>6</th>\n",
       "      <td>Democratic</td>\n",
       "      <td>750117277</td>\n",
       "      <td>Velma Steinman</td>\n",
       "      <td>190</td>\n",
       "    </tr>\n",
       "    <tr>\n",
       "      <th>7</th>\n",
       "      <td>Democratic</td>\n",
       "      <td>750117278</td>\n",
       "      <td>Leonard J. Steinman II</td>\n",
       "      <td>176</td>\n",
       "    </tr>\n",
       "    <tr>\n",
       "      <th>19</th>\n",
       "      <td>Democratic</td>\n",
       "      <td>750117321</td>\n",
       "      <td>Marianne Williamson</td>\n",
       "      <td>169</td>\n",
       "    </tr>\n",
       "    <tr>\n",
       "      <th>16</th>\n",
       "      <td>Democratic</td>\n",
       "      <td>750117301</td>\n",
       "      <td>John K. Delaney</td>\n",
       "      <td>158</td>\n",
       "    </tr>\n",
       "    <tr>\n",
       "      <th>22</th>\n",
       "      <td>Democratic</td>\n",
       "      <td>750117326</td>\n",
       "      <td>Steve Burke</td>\n",
       "      <td>122</td>\n",
       "    </tr>\n",
       "    <tr>\n",
       "      <th>17</th>\n",
       "      <td>Democratic</td>\n",
       "      <td>750117302</td>\n",
       "      <td>Julián Castro</td>\n",
       "      <td>103</td>\n",
       "    </tr>\n",
       "    <tr>\n",
       "      <th>13</th>\n",
       "      <td>Democratic</td>\n",
       "      <td>750117287</td>\n",
       "      <td>Henry Hewes</td>\n",
       "      <td>93</td>\n",
       "    </tr>\n",
       "    <tr>\n",
       "      <th>23</th>\n",
       "      <td>Democratic</td>\n",
       "      <td>750117331</td>\n",
       "      <td>Robby Wells</td>\n",
       "      <td>79</td>\n",
       "    </tr>\n",
       "    <tr>\n",
       "      <th>15</th>\n",
       "      <td>Democratic</td>\n",
       "      <td>750117299</td>\n",
       "      <td>Roque De La Fuente</td>\n",
       "      <td>64</td>\n",
       "    </tr>\n",
       "    <tr>\n",
       "      <th>18</th>\n",
       "      <td>Democratic</td>\n",
       "      <td>750117303</td>\n",
       "      <td>Deval Patrick</td>\n",
       "      <td>52</td>\n",
       "    </tr>\n",
       "    <tr>\n",
       "      <th>26</th>\n",
       "      <td>Green</td>\n",
       "      <td>750117325</td>\n",
       "      <td>Howie Hawkins</td>\n",
       "      <td>170</td>\n",
       "    </tr>\n",
       "    <tr>\n",
       "      <th>29</th>\n",
       "      <td>Green</td>\n",
       "      <td>750117356</td>\n",
       "      <td>Uncommitted</td>\n",
       "      <td>149</td>\n",
       "    </tr>\n",
       "    <tr>\n",
       "      <th>27</th>\n",
       "      <td>Green</td>\n",
       "      <td>750117327</td>\n",
       "      <td>Dario Hunter</td>\n",
       "      <td>110</td>\n",
       "    </tr>\n",
       "    <tr>\n",
       "      <th>28</th>\n",
       "      <td>Green</td>\n",
       "      <td>750117329</td>\n",
       "      <td>David Rolde</td>\n",
       "      <td>82</td>\n",
       "    </tr>\n",
       "    <tr>\n",
       "      <th>30</th>\n",
       "      <td>Libertarian</td>\n",
       "      <td>750117320</td>\n",
       "      <td>Jacob Hornberger</td>\n",
       "      <td>1683</td>\n",
       "    </tr>\n",
       "    <tr>\n",
       "      <th>31</th>\n",
       "      <td>Libertarian</td>\n",
       "      <td>750117355</td>\n",
       "      <td>Uncommitted</td>\n",
       "      <td>573</td>\n",
       "    </tr>\n",
       "    <tr>\n",
       "      <th>32</th>\n",
       "      <td>Republican</td>\n",
       "      <td>750117286</td>\n",
       "      <td>Donald J Trump</td>\n",
       "      <td>299458</td>\n",
       "    </tr>\n",
       "    <tr>\n",
       "      <th>37</th>\n",
       "      <td>Republican</td>\n",
       "      <td>750117353</td>\n",
       "      <td>Uncommitted</td>\n",
       "      <td>4182</td>\n",
       "    </tr>\n",
       "    <tr>\n",
       "      <th>34</th>\n",
       "      <td>Republican</td>\n",
       "      <td>750117328</td>\n",
       "      <td>Bill Weld</td>\n",
       "      <td>2147</td>\n",
       "    </tr>\n",
       "    <tr>\n",
       "      <th>35</th>\n",
       "      <td>Republican</td>\n",
       "      <td>750117330</td>\n",
       "      <td>Joe Walsh</td>\n",
       "      <td>1997</td>\n",
       "    </tr>\n",
       "    <tr>\n",
       "      <th>33</th>\n",
       "      <td>Republican</td>\n",
       "      <td>750117300</td>\n",
       "      <td>Bob Ely</td>\n",
       "      <td>835</td>\n",
       "    </tr>\n",
       "    <tr>\n",
       "      <th>36</th>\n",
       "      <td>Republican</td>\n",
       "      <td>750117334</td>\n",
       "      <td>Matthew John Matern</td>\n",
       "      <td>592</td>\n",
       "    </tr>\n",
       "  </tbody>\n",
       "</table>\n",
       "</div>"
      ],
      "text/plain": [
       "       PartyName CandidateID                LastName  YesVotes\n",
       "1   Constitution   750117335         Don Blankenship       278\n",
       "2   Constitution   750117357             Uncommitted       270\n",
       "0   Constitution   750117333        Don J. Grundmann       168\n",
       "8     Democratic   750117279         Joseph R. Biden    396826\n",
       "11    Democratic   750117283          Bernie Sanders    228244\n",
       "21    Democratic   750117324    Michael R. Bloomberg      9754\n",
       "10    Democratic   750117282        Elizabeth Warren      8066\n",
       "3     Democratic   750117274           Tulsi Gabbard      4838\n",
       "4     Democratic   750117275          Pete Buttigieg      3272\n",
       "5     Democratic   750117276           Amy Klobuchar      2652\n",
       "25    Democratic   750117354             Uncommitted      2461\n",
       "14    Democratic   750117288             Andrew Yang       944\n",
       "12    Democratic   750117285             Cory Booker       647\n",
       "9     Democratic   750117280              Tom Steyer       579\n",
       "24    Democratic   750117332  William C. (Bill) Haas       391\n",
       "20    Democratic   750117323          Michael Bennet       203\n",
       "6     Democratic   750117277          Velma Steinman       190\n",
       "7     Democratic   750117278  Leonard J. Steinman II       176\n",
       "19    Democratic   750117321     Marianne Williamson       169\n",
       "16    Democratic   750117301         John K. Delaney       158\n",
       "22    Democratic   750117326             Steve Burke       122\n",
       "17    Democratic   750117302           Julián Castro       103\n",
       "13    Democratic   750117287             Henry Hewes        93\n",
       "23    Democratic   750117331             Robby Wells        79\n",
       "15    Democratic   750117299      Roque De La Fuente        64\n",
       "18    Democratic   750117303           Deval Patrick        52\n",
       "26         Green   750117325           Howie Hawkins       170\n",
       "29         Green   750117356             Uncommitted       149\n",
       "27         Green   750117327            Dario Hunter       110\n",
       "28         Green   750117329             David Rolde        82\n",
       "30   Libertarian   750117320        Jacob Hornberger      1683\n",
       "31   Libertarian   750117355             Uncommitted       573\n",
       "32    Republican   750117286          Donald J Trump    299458\n",
       "37    Republican   750117353             Uncommitted      4182\n",
       "34    Republican   750117328               Bill Weld      2147\n",
       "35    Republican   750117330               Joe Walsh      1997\n",
       "33    Republican   750117300                 Bob Ely       835\n",
       "36    Republican   750117334     Matthew John Matern       592"
      ]
     },
     "execution_count": 76,
     "metadata": {},
     "output_type": "execute_result"
    }
   ],
   "source": [
    "candidate_totals"
   ]
  },
  {
   "cell_type": "code",
   "execution_count": null,
   "metadata": {},
   "outputs": [],
   "source": []
  }
 ],
 "metadata": {
  "kernelspec": {
   "display_name": "Python 3",
   "language": "python",
   "name": "python3"
  },
  "language_info": {
   "codemirror_mode": {
    "name": "ipython",
    "version": 3
   },
   "file_extension": ".py",
   "mimetype": "text/x-python",
   "name": "python",
   "nbconvert_exporter": "python",
   "pygments_lexer": "ipython3",
   "version": "3.8.1"
  }
 },
 "nbformat": 4,
 "nbformat_minor": 4
}
