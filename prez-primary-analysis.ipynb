{
 "cells": [
  {
   "cell_type": "markdown",
   "metadata": {},
   "source": [
    "# Missouri Presidential Primary Results\n",
    "\n",
    "In this notebook, I will dig into the county-level election results for Missouri's Presidential Primary contests, which were held on March 10, 2020.\n",
    "\n",
    "The plan:\n",
    "\n",
    "1. [Access the results data](#Accessing-results-data)\n",
    "2. [Prepare the results for analysis](#Preparing-results-data-for-analysis)\n",
    "3. [Compute state, party and candidate level sums](#Computing-sums)\n",
    "4. [Access county-level boundary data](#Access-county-level-boundary-data)\n",
    "5. [Merge county geographic data with the results](#Merging-results-with-geographic-data)\n",
    "6. [Create a choropleth map](#Creating-choropleth-maps) showing county-level results:\n",
    "    - For the [Democratic Party](#For-the-Democratic-Party)\n",
    "    - For the [Republican Party](#For-the-Republican-Party)\n",
    "\n",
    "## Set up \n",
    "\n",
    "First, I need to import all the Python modules (or parts of them) required by my analysis. Here's the list of what I need from the Python's standard libary:"
   ]
  },
  {
   "cell_type": "code",
   "execution_count": null,
   "metadata": {},
   "outputs": [],
   "source": [
    "import os\n",
    "import xml.etree.ElementTree as et"
   ]
  },
  {
   "cell_type": "markdown",
   "metadata": {},
   "source": [
    "And here are the modules I need from third-party packages (previously installed via [pip](https://pip.pypa.io/en/stable/installing/))."
   ]
  },
  {
   "cell_type": "code",
   "execution_count": null,
   "metadata": {},
   "outputs": [],
   "source": [
    "import requests\n",
    "import pandas as pd\n",
    "import geopandas as gpd\n",
    "import altair as alt"
   ]
  },
  {
   "cell_type": "markdown",
   "metadata": {},
   "source": [
    "I will explain each of these modules in more detail as I put them to use.\n",
    "\n",
    "## Accessing results data\n",
    "\n",
    "For every state-wide election, the Missouri Secretary of State publishes county-level results. Initial results are posted after polls close at 7 pm on election night with updated results posted every few minutes until all precincts have reported.\n",
    "\n",
    "I can see these results via an XML feed available at this url:"
   ]
  },
  {
   "cell_type": "code",
   "execution_count": null,
   "metadata": {},
   "outputs": [],
   "source": [
    "results_url = \"https://enrarchives.sos.mo.gov/apfeed/apfeed.asmx/GetElectionResults\""
   ]
  },
  {
   "cell_type": "markdown",
   "metadata": {},
   "source": [
    "In order to access the feed, you need a key provided by SoS Elections Divisions. To keep the key hidden from public view, I have it stored in an environment variable, which I can set on the command-line like so:\n",
    "\n",
    "```sh\n",
    "export SOS_ACCESS_KEY=#######\n",
    "```\n",
    "\n",
    "I can access this environment variable via [`os`](https://docs.python.org/3/library/os.html), Python's built-in module for interacting with my computer's underlying operating system."
   ]
  },
  {
   "cell_type": "code",
   "execution_count": null,
   "metadata": {},
   "outputs": [],
   "source": [
    "sos_access_key = os.environ.get('SOS_ACCESS_KEY')"
   ]
  },
  {
   "cell_type": "markdown",
   "metadata": {},
   "source": [
    "I can fetch this data using the popular [Requests](https://requests.readthedocs.io/en/master/) library, which provides a simple interface for sending [HTTP](https://developer.mozilla.org/en-US/docs/Web/HTTP) requests and processing the responses.\n",
    "\n",
    "Here's how I make a `GET` request (the most common HTTP [request method](https://developer.mozilla.org/en-US/docs/Web/HTTP/Methods)) to the XML feed url. The access key is passed in via a query parameter."
   ]
  },
  {
   "cell_type": "code",
   "execution_count": null,
   "metadata": {},
   "outputs": [],
   "source": [
    "r = requests.get(\n",
    "    results_url, params={'AccessKey': os.environ.get('SOS_ACCESS_KEY')}\n",
    ")"
   ]
  },
  {
   "cell_type": "markdown",
   "metadata": {},
   "source": [
    "This method call returns a [`requests.Response`](https://requests.readthedocs.io/en/master/api/#requests.Response), which I've called `r`.\n",
    "\n",
    "Here's how we check the general status of the response."
   ]
  },
  {
   "cell_type": "code",
   "execution_count": null,
   "metadata": {},
   "outputs": [],
   "source": [
    "r.ok"
   ]
  },
  {
   "cell_type": "markdown",
   "metadata": {},
   "source": [
    "Uh oh, it's not okay.\n",
    "\n",
    "We can further investigate by checking the responses status code [status code](https://developer.mozilla.org/en-US/docs/Web/HTTP/Status)."
   ]
  },
  {
   "cell_type": "code",
   "execution_count": null,
   "metadata": {},
   "outputs": [],
   "source": [
    "r.status_code"
   ]
  },
  {
   "cell_type": "markdown",
   "metadata": {},
   "source": [
    "And the reason for the status code, if provided by the server."
   ]
  },
  {
   "cell_type": "code",
   "execution_count": null,
   "metadata": {},
   "outputs": [],
   "source": [
    "r.reason"
   ]
  },
  {
   "cell_type": "markdown",
   "metadata": {},
   "source": [
    "They didn't 😞.\n",
    "\n",
    "After investigating this issue further, I've discovered the request will succeed if I change the default value in the [`'User-Agent'` header](https://developer.mozilla.org/en-US/docs/Web/HTTP/Headers/User-Agent) from `'python-requests/2.23.0'` to match what a standard web browser would send.\n",
    "\n",
    "Much like the parameters, the headers can be passed in as a `dict` through a keyword argument in the `.get` method call:"
   ]
  },
  {
   "cell_type": "code",
   "execution_count": null,
   "metadata": {},
   "outputs": [],
   "source": [
    "r = requests.get(\n",
    "    results_url,\n",
    "    params={'AccessKey': os.environ.get('SOS_ACCESS_KEY')},\n",
    "    headers={'User-Agent': 'Mozilla/5.0 (Macintosh; Intel Mac OS X 10.15; rv:73.0) Gecko/20100101 Firefox/73.0'}\n",
    ")"
   ]
  },
  {
   "cell_type": "markdown",
   "metadata": {},
   "source": [
    "Here I'll check the general status of the new response."
   ]
  },
  {
   "cell_type": "code",
   "execution_count": null,
   "metadata": {},
   "outputs": [],
   "source": [
    "r.ok"
   ]
  },
  {
   "cell_type": "markdown",
   "metadata": {},
   "source": [
    "If the response *still* isn't okay (perhaps because the Missouri Secretary of State is no longer publishing election results), I can proceed with this demonstration using cached XML stored locally in this repo."
   ]
  },
  {
   "cell_type": "code",
   "execution_count": null,
   "metadata": {},
   "outputs": [],
   "source": [
    "if not r.ok:\n",
    "    with open('results.xml') as f:\n",
    "        xml = f.read()\n",
    "else:\n",
    "    xml = r.content"
   ]
  },
  {
   "cell_type": "markdown",
   "metadata": {},
   "source": [
    "## Preparing results data for analysis\n",
    "\n",
    "AFAIK: I can't throw XML immediately into a [`pandas.DataFrame`](https://pandas.pydata.org/pandas-docs/stable/reference/api/pandas.DataFrame.html). I need to pre-process the data. For this task, I will use Python's built-in [XML](https://docs.python.org/3.8/library/xml.etree.elementtree.html) module.\n",
    "\n",
    "At the top of this notebook, I imported the [`ElementTree`](https://docs.python.org/3.8/library/xml.etree.elementtree.html#module-xml.etree.ElementTree) under the alias `et`. In that module is a function named [`fromstring`](https://docs.python.org/3.8/library/xml.etree.elementtree.html#xml.etree.ElementTree.fromstring). I call that function here, passing the `xml`."
   ]
  },
  {
   "cell_type": "code",
   "execution_count": null,
   "metadata": {},
   "outputs": [],
   "source": [
    "root = et.fromstring(xml)"
   ]
  },
  {
   "cell_type": "markdown",
   "metadata": {},
   "source": [
    "The `fromstring` function returns the top-level or \"root\" [`Element`](https://docs.python.org/3.8/library/xml.etree.elementtree.html#xml.etree.ElementTree.Element) of the XML, which in this case is `<ElectionResults LastUpdated=\"3/10/2020 10:52:10 PM\"></ElectionResults>`. This is the outermost wrapper of the XML tree.\n",
    "\n",
    "The name of the tag indicates the kind of data the element contains. It's sort of like a column header in a tabular data format. We can access this label like this:"
   ]
  },
  {
   "cell_type": "code",
   "execution_count": null,
   "metadata": {},
   "outputs": [],
   "source": [
    "print(root.tag)"
   ]
  },
  {
   "cell_type": "markdown",
   "metadata": {},
   "source": [
    "We can also access the elements \"attributes\", which is a dictionary of the all the stuff that's inside the first part of the tag. In this case, there's just one attribute: `'LastUpdated'`, which tells us the date and time the results were last updated."
   ]
  },
  {
   "cell_type": "code",
   "execution_count": null,
   "metadata": {},
   "outputs": [],
   "source": [
    "print(root.attrib['LastUpdated'])"
   ]
  },
  {
   "cell_type": "markdown",
   "metadata": {},
   "source": [
    "The `Element` class has two other methods I'll make use of:\n",
    "\n",
    "- [`.find`](https://docs.python.org/3.8/library/xml.etree.elementtree.html#xml.etree.ElementTree.Element.find), which returns the *first* subelement that matches the string you pass in.\n",
    "- [`.findall`](https://docs.python.org/3.8/library/xml.etree.elementtree.html#xml.etree.ElementTree.Element.findall), which returns *all* of the matching subelements in a list.\n",
    "\n",
    "In order to conduct my analysis, I need to reformat the data from a nested structure into a two-dimensional structure that resembles a data table or spreadsheet. Here I will declare a variable that starts out as just an empty list, which I will then fill up with rows of data."
   ]
  },
  {
   "cell_type": "code",
   "execution_count": null,
   "metadata": {},
   "outputs": [],
   "source": [
    "rows = []"
   ]
  },
  {
   "cell_type": "markdown",
   "metadata": {},
   "source": [
    "As I perform this data transformation, I will also \"flatten\" the hierarchical structure. For instance, in the original XML data, there is a single element that contains the name of a given county. In the tabular format, the county name will be repeated for each row. Same for the party name. In this flattened dataset, each row will represent the number of votes won by a given candidate in a given party's primary within a given county.\n",
    "\n",
    "In order to do this, I need to loop over the elements at each level of the XML's hierarchy, starting with the counties. Here's how to get all the counties:"
   ]
  },
  {
   "cell_type": "code",
   "execution_count": null,
   "metadata": {},
   "outputs": [],
   "source": [
    "counties = root.find('ElectionInfo').find('TypeRace').find('Race').findall('Counties')"
   ]
  },
  {
   "cell_type": "markdown",
   "metadata": {},
   "source": [
    "Since I'm iterating over all the XML elements anyway, I will also sort the candidates within each county's party primary and set which candidate currently has the most votes (aka, the \"leader\").\n",
    "\n",
    "This is...not the most elegant way to transform this data. But it works and is pretty straight-forward."
   ]
  },
  {
   "cell_type": "code",
   "execution_count": null,
   "metadata": {},
   "outputs": [],
   "source": [
    "for county in counties:\n",
    "    for party in county.find('CountyResults').findall('Party'):\n",
    "        sorted_candidates = sorted(\n",
    "            [c for c in party.findall('Candidate')],\n",
    "            key=lambda c: int(c.find('YesVotes').text),\n",
    "            reverse=True\n",
    "        )\n",
    "        county_party_leader = sorted_candidates[0].find('LastName').text\n",
    "        county_party_total = sum([int(c.find('YesVotes').text) for c in sorted_candidates])\n",
    "        for candidate in sorted_candidates:\n",
    "            row = [\n",
    "                county.find('CountyName').text,\n",
    "                int(county.find('CountyResults').find('ReportingPrecincts').text),\n",
    "                int(county.find('CountyResults').find('TotalPrecincts').text),\n",
    "                party.find('PartyName').text,\n",
    "                candidate.find('CandidateID').text,\n",
    "                candidate.find('LastName').text,\n",
    "                int(candidate.find('YesVotes').text),\n",
    "                county_party_total,\n",
    "                candidate.find('LastName').text == county_party_leader,\n",
    "            ]\n",
    "            rows.append(row)"
   ]
  },
  {
   "cell_type": "markdown",
   "metadata": {},
   "source": [
    "Now I can load this data into a `pandas.DataFrame`. In so doing, I will specify the column headers. For the sake of consistency, I will reuse the element tags from the XML:"
   ]
  },
  {
   "cell_type": "code",
   "execution_count": null,
   "metadata": {},
   "outputs": [],
   "source": [
    "results = pd.DataFrame(\n",
    "    rows,\n",
    "    columns=[\n",
    "        'CountyName', 'ReportingPrecincts', 'TotalPrecincts', 'PartyName', 'CandidateID',\n",
    "        'LastName', 'YesVotes', 'Total', 'IsLeader'\n",
    "    ]\n",
    ")"
   ]
  },
  {
   "cell_type": "markdown",
   "metadata": {},
   "source": [
    "I'll take a look at the columns, their positions, non-null counts and data-types:"
   ]
  },
  {
   "cell_type": "code",
   "execution_count": null,
   "metadata": {},
   "outputs": [],
   "source": [
    "results.info()"
   ]
  },
  {
   "cell_type": "markdown",
   "metadata": {},
   "source": [
    "And take a peek of the actual data:"
   ]
  },
  {
   "cell_type": "code",
   "execution_count": null,
   "metadata": {},
   "outputs": [],
   "source": [
    "results.head()"
   ]
  },
  {
   "cell_type": "markdown",
   "metadata": {},
   "source": [
    "## Calculating percentages\n",
    "\n",
    "I don't just want to know the raw number of votes each candidate received. I also want to know many votes each candidate received as a percentage of the total votes cast.\n",
    "\n",
    "Since the total number of votes cast in each county for each party primary is repeated on every row along with the number of votes each candidate earned, I can compute a new column from these values. I'll call it `VoteShare`."
   ]
  },
  {
   "cell_type": "code",
   "execution_count": null,
   "metadata": {},
   "outputs": [],
   "source": [
    "results['VoteShare'] = results['YesVotes'] / results['Total']"
   ]
  },
  {
   "cell_type": "markdown",
   "metadata": {},
   "source": [
    "## Computing sums\n",
    "\n",
    "With all of the data in a `pandas.DataFrame`, I can begin to compute some sums and answer answer basic questions I might have as results are rolling in. For example...\n",
    "\n",
    "### How many people voted in the Missouri's recent presidential primary?"
   ]
  },
  {
   "cell_type": "code",
   "execution_count": null,
   "metadata": {},
   "outputs": [],
   "source": [
    "total_votes = results.YesVotes.sum()"
   ]
  },
  {
   "cell_type": "code",
   "execution_count": null,
   "metadata": {},
   "outputs": [],
   "source": [
    "print(f'There where {total_votes:,} cast in the Missouri Presidential Primary.')"
   ]
  },
  {
   "cell_type": "markdown",
   "metadata": {},
   "source": [
    "### How many people voted in each party's primary?\n",
    "\n",
    "This requires me to group the results by party, then get the sum of votes."
   ]
  },
  {
   "cell_type": "code",
   "execution_count": null,
   "metadata": {},
   "outputs": [],
   "source": [
    "party_totals = results.groupby('PartyName').YesVotes.sum().reset_index().sort_values(\n",
    "    'YesVotes', ascending=False\n",
    ")"
   ]
  },
  {
   "cell_type": "code",
   "execution_count": null,
   "metadata": {},
   "outputs": [],
   "source": [
    "party_totals"
   ]
  },
  {
   "cell_type": "markdown",
   "metadata": {},
   "source": [
    "### Who won the Democratic Primary?"
   ]
  },
  {
   "cell_type": "code",
   "execution_count": null,
   "metadata": {},
   "outputs": [],
   "source": [
    "candidate_totals = results.groupby(\n",
    "    ['PartyName', 'CandidateID', 'LastName']\n",
    ").agg({'YesVotes': 'sum', 'Total': 'sum'})"
   ]
  },
  {
   "cell_type": "code",
   "execution_count": null,
   "metadata": {},
   "outputs": [],
   "source": [
    "candidate_totals['VoteShare'] = round(\n",
    "    (candidate_totals['YesVotes'] / candidate_totals['Total']) * 100,\n",
    "    2\n",
    ")"
   ]
  },
  {
   "cell_type": "code",
   "execution_count": null,
   "metadata": {},
   "outputs": [],
   "source": [
    "candidate_totals \\\n",
    "    .loc['Democratic'] \\\n",
    "    .reset_index('CandidateID')[['YesVotes', 'VoteShare']] \\\n",
    "    .sort_values('VoteShare', ascending=False) \\\n",
    "    .head()"
   ]
  },
  {
   "cell_type": "markdown",
   "metadata": {},
   "source": [
    "### Who won the Republican Primary?"
   ]
  },
  {
   "cell_type": "code",
   "execution_count": null,
   "metadata": {},
   "outputs": [],
   "source": [
    "candidate_totals \\\n",
    "    .loc['Republican'] \\\n",
    "    .reset_index('CandidateID')[['YesVotes', 'VoteShare']] \\\n",
    "    .sort_values('VoteShare', ascending=False) \\\n",
    "    .head()"
   ]
  },
  {
   "cell_type": "markdown",
   "metadata": {},
   "source": [
    "## Access county-level boundary data\n",
    "\n",
    "With the results data in order, now I can turn my attention to creating the maps. I need data that describes the shape of each county and their position within the state boundary of Missouri.\n",
    "\n",
    "This data is available via [data.mo.gov](https://data.mo.gov/Demographics/Missouri-County-Boundaries-Map/n34b-fwqr) in a format called [GeoJSON](https://geojson.org/).\n",
    "\n",
    "The exact data we want is available at [this URL](https://data.mo.gov/api/geospatial/n34b-fwqr?method=export&format=GeoJSON). I'm going store this in a variable called `map_url`."
   ]
  },
  {
   "cell_type": "code",
   "execution_count": null,
   "metadata": {},
   "outputs": [],
   "source": []
  },
  {
   "cell_type": "markdown",
   "metadata": {},
   "source": [
    "I'll fetch this data by using the `requests` module once again."
   ]
  },
  {
   "cell_type": "code",
   "execution_count": null,
   "metadata": {},
   "outputs": [],
   "source": []
  },
  {
   "cell_type": "markdown",
   "metadata": {},
   "source": [
    "The [`requests.Response`](https://requests.readthedocs.io/en/master/api/#requests.Response) object I get back has a [`json()`](https://requests.readthedocs.io/en/master/api/#requests.Response.json) method, which converts the json in the HTTP response and loads it into a Python `dict`."
   ]
  },
  {
   "cell_type": "code",
   "execution_count": null,
   "metadata": {},
   "outputs": [],
   "source": []
  },
  {
   "cell_type": "markdown",
   "metadata": {},
   "source": [
    "## Merging results with geographic data\n",
    "\n",
    "Now I need to merge together the county-level results data and the county-level geographic data into one `pandas.DataFrame`. This is the point at which I'll be making us of the [`geopandas`](https://geopandas.org/) module I imported early under the alias `gpd`.\n",
    "\n",
    "As you might have guessed, `geopandas` is an extension of `pandas` that makes it easier to work with geospatial data. And it [plays well with Altair](https://altair-viz.github.io/user_guide/data.html?highlight=geopandas), which is why I'm using it.\n",
    "\n",
    "Here I'll create a [`GeoDataFrame`](https://geopandas.org/data_structures.html#geodataframe) from the `map_json`."
   ]
  },
  {
   "cell_type": "code",
   "execution_count": null,
   "metadata": {},
   "outputs": [],
   "source": []
  },
  {
   "cell_type": "markdown",
   "metadata": {},
   "source": [
    "Then I'll take a check out my columns, which includes a new [`Dtype`](https://pandas.pydata.org/pandas-docs/stable/reference/api/pandas.DataFrame.dtypes.html) called `geometry`."
   ]
  },
  {
   "cell_type": "code",
   "execution_count": null,
   "metadata": {},
   "outputs": [],
   "source": []
  },
  {
   "cell_type": "markdown",
   "metadata": {},
   "source": [
    "In order to merge my `GeoDataFrame`, which contains the county-level boundaries, with my regular `DataFrame`, which contains my county-level results, I need to figure out which column I can use in my join condition."
   ]
  },
  {
   "cell_type": "code",
   "execution_count": null,
   "metadata": {},
   "outputs": [],
   "source": []
  },
  {
   "cell_type": "markdown",
   "metadata": {},
   "source": [
    "As I perform this merge I can also filter out a lot of the results data that won't be displayed on the maps. Specifically, I only want to keep the results for candidates who are the leaders in any county."
   ]
  },
  {
   "cell_type": "code",
   "execution_count": null,
   "metadata": {},
   "outputs": [],
   "source": []
  },
  {
   "cell_type": "code",
   "execution_count": null,
   "metadata": {},
   "outputs": [],
   "source": []
  },
  {
   "cell_type": "markdown",
   "metadata": {},
   "source": [
    "## Creating choropleth maps\n",
    "\n",
    "I'll start by simply drawing the county map of Missouri using only the map geometry data, stored in `gdf`. I do this by calling one of `Chart`'s [mark](https://altair-viz.github.io/user_guide/marks.html) methods, which specifies how I want data to be represented on a plot. In my case, I'll call the `mark_geoshape` method.\n",
    "\n",
    "I can also specify other things about the map including:\n",
    "\n",
    "* The `height` and `width` in pixels\n",
    "* The color of the line `stoke`\n",
    "* The `project` (via the `.project` method). For more info about this, here is a [great explainer](https://nextjournal.com/sdanisch/cartographic-visualization) (using Altair!)"
   ]
  },
  {
   "cell_type": "code",
   "execution_count": null,
   "metadata": {},
   "outputs": [],
   "source": []
  },
  {
   "cell_type": "markdown",
   "metadata": {},
   "source": [
    "### For the Democratic Party\n",
    "\n",
    "Since each map only shows the results of one party, we need to filter down the `merged` `DataFrame` even further."
   ]
  },
  {
   "cell_type": "code",
   "execution_count": null,
   "metadata": {},
   "outputs": [],
   "source": []
  },
  {
   "cell_type": "markdown",
   "metadata": {},
   "source": [
    "I want to show is the percent of votes the leader has in each county, and I want to show this using color. This is my desired [encoding](https://altair-viz.github.io/user_guide/encoding.html), which is the term Altair uses to describe the mapping of properties in the data to visual properties of the chart.\n",
    "\n",
    "Color is one of the encoding [channels](https://altair-viz.github.io/user_guide/encoding.html#encoding-channels) afforded by Altair.\n",
    "\n",
    "I also want to add three additional customizations:\n",
    "\n",
    "1. Customize the color scale (by default, Altair uses a [multi-hue color scheme](https://vega.github.io/vega/docs/schemes/#seq-multi-hue))\n",
    "2. Customize the legend\n",
    "3. Specify a projection\n",
    "4. Add tooltips"
   ]
  },
  {
   "cell_type": "code",
   "execution_count": null,
   "metadata": {},
   "outputs": [],
   "source": []
  },
  {
   "cell_type": "markdown",
   "metadata": {},
   "source": [
    "### For the Republican Party\n",
    "\n",
    "To create another map for the presidential primary candidates for the Republican Party, I'll repeat all of these steps with two slight variations."
   ]
  },
  {
   "cell_type": "code",
   "execution_count": null,
   "metadata": {
    "scrolled": true
   },
   "outputs": [],
   "source": []
  }
 ],
 "metadata": {
  "kernelspec": {
   "display_name": "Python 3",
   "language": "python",
   "name": "python3"
  },
  "language_info": {
   "codemirror_mode": {
    "name": "ipython",
    "version": 3
   },
   "file_extension": ".py",
   "mimetype": "text/x-python",
   "name": "python",
   "nbconvert_exporter": "python",
   "pygments_lexer": "ipython3",
   "version": "3.8.1"
  }
 },
 "nbformat": 4,
 "nbformat_minor": 4
}
